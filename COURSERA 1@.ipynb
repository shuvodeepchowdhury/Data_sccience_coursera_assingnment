{
 "cells": [
  {
   "cell_type": "markdown",
   "id": "c9b4214f-05af-4708-9560-3e35387f65dc",
   "metadata": {},
   "source": [
    "# my jupyter notebook"
   ]
  },
  {
   "cell_type": "markdown",
   "id": "181c350d-9d99-4b43-9e27-3f796aa21571",
   "metadata": {},
   "source": [
    "## introduction \n",
    "Hello this is my assignment"
   ]
  },
  {
   "cell_type": "markdown",
   "id": "a421f9bc-ed31-4456-8a1a-4e841f1a7b96",
   "metadata": {},
   "source": [
    "## Data Science Languages\r\n",
    "\r\n",
    "When it comes to data science, there are several programming languages that are commonly used for various tasks. Some of the prominent ones include:\r\n",
    "- **Pyon**: Widely regarded as the primary language for data science due to its versatility, rich ecosystem of libraries (such as NumPy, Pandas, and Scikit-learn), and ease of use\n",
    "**R**: Particularly popular in academia and research communities, R is known for its powerful statistical capabilities and comprehensive packages for data analysis and visualizatio\r\n",
    "-*SQL**: Although primarily used for database management, SQL (Structured Query Language) is indispensable for data retrieval, manipulation, and aggregation in data science proje .\r\n",
    "- Julia**: Emerging as a high-performance language for numerical and scientific computing, Julia combines the ease of use of Python with the speed of languages like C and Fortn.\r\n",
    "-*Scala**: Often utilized for big data processing, Scala's compatibility with Apache Spark makes it a preferred choice for distributed computing tasks in data scice.\r",
    " **Java**: While not as commonly used in data science as Python or R, Java finds its place in enterprise-level data engineering and application development, especially in large-scale anization.\r\n"
   ]
  },
  {
   "cell_type": "markdown",
   "id": "7a5ad1ee-d99f-4666-9bc6-5d9296f9aef8",
   "metadata": {},
   "source": [
    "## Data Science Libraries in Python\r\n",
    "\r\n",
    "1**Num**\r\n",
    "   - Description: Fundamental package for scientific computing with Pythog/)\r\n",
    "2. **ndas**\r\n",
    "   - Description: Data manipulation and analysis lta.or)\r\n",
    "\r\n",
    "3. **tplotlib**\r\n",
    "   - Description: 2D plotting library for creating static, animated, and interactive visualizations\n",
    "otliorg/)\r\n",
    "4. **Seaborn**\r\n",
    "   - Description: Statistical data visualization basedorn.pata.o/)\r\n",
    "\r\n",
    "5. **SciPy**\r\n",
    "   - Description: Library for mathematics, sciencps://w.scipy.org/\n",
    "\r\n",
    "6. **Scikit-learn**\r\n",
    "   - Description: Simple and efficient tools for data micikitearn.org/stle/)\r\n",
    "\r\n",
    "7. **Statsmodels**\r\n",
    "   - Description: Library for estimating and odelsTg/stable/dex.html)\r\n",
    "\r\n",
    "8. **TensorFlow**\r\n",
    "   - Description: Open-source machine learninbsite](https://www.tensorflow.\r\n"
   ]
  },
  {
   "cell_type": "markdown",
   "id": "6c7ed113-ada7-43e5-abd7-50ecd142293c",
   "metadata": {},
   "source": [
    "## Data Science Tools\r\n",
    "\r\n",
    "Here's a table listing some popular tools used in the field of data science:\r\n",
    "\r\n",
    "| Tool             | Description                                                               |\r\n",
    "|------------------|---------------------------------------------------------------------------|\r\n",
    "| Python           | Versatile programming language with rich libraries for data analysis      |\r\n",
    "| R                | Statistical computing language with extensive packages for data anaysis   |\r\n",
    "| Jupyter Notebook | Interactive computing environment for creating and sharing documents      |\r\n",
    "| Pandas           | Python library for data manipulation and analysis                         |\r\n",
    "| NumPy            | Fundamental package for scientific computing with Python                  |\r\n",
    "| Scikit-learn     | Machine learning library for Python, providing simple and effi cient tools|\r\n",
    "| TensorFlow       | Open-source machine learning framework developed by Google                |\r\n",
    "| PyTorch          | Deep learning framework that facilitates research and production usage    |\r\n",
    "| MATLAB           | Proprietary programming language and environment for numerical computing  |\r\n",
    "| Tableau          | Data visualization software with intuitive drag-and-drop ine"
   ]
  },
  {
   "cell_type": "markdown",
   "id": "3ee97db0-24c7-465e-922d-b5da88e12c93",
   "metadata": {},
   "source": [
    "## Arithmetic Expression Examples\n",
    "1) 5+3\n",
    "2) 10-4\n",
    "3) 6*10\n",
    "4) 20/5\n",
    "5) (4 + 5)*2-5\n",
    "6) 2**3\n",
    "7) 10+3*2-5\n",
    "8) (4*5)-(2+5)\n",
    "9) 15/4\n",
    "10) 15//4"
   ]
  },
  {
   "cell_type": "code",
   "execution_count": null,
   "id": "3c34e3c9-d958-4730-a71e-58a242f9330c",
   "metadata": {},
   "outputs": [],
   "source": [
    "num1 = 5\n",
    "num2 = 3\n",
    "num3 = 7\n",
    "result_multiply = num1 * num2\n",
    "print(\"Multiplication Result:\", result_multiply)\n",
    "result_add = num1 + num3\n",
    "print(\"Addition Result:\", result_add)"
   ]
  },
  {
   "cell_type": "code",
   "execution_count": null,
   "id": "809e1735-20f4-4099-9a9b-d791ca46864a",
   "metadata": {},
   "outputs": [],
   "source": [
    "def minutes_to_hours(minutes):\n",
    "    hours = minutes / 60\n",
    "    return hours\n",
    "minutes = 120\n",
    "hours = minutes_to_hours(minutes)\n",
    "print(f\"{minutes} minutes is equal to {hours} hours.\")"
   ]
  },
  {
   "cell_type": "markdown",
   "id": "33026d5d-4455-4ea2-a595-d52ec71807a7",
   "metadata": {},
   "source": [
    "## Objectives\r\n",
    "\r\n",
    "In this notebook, our main objectives are:\r\n",
    "\r",
    ". **Explore Basic Arithmetic Operatns**: We will cover addition, subtraction, multiplication, and division of numbers to understand their implementation in programming.\r\n",
    " \n",
    "2. **Demonstrate Variablesage**: We'll show how variables can be used to store and manipulate numerical values in arithmetic expressions.\r",
    " \r\n",
    "3. **Introduce Functnality**: We will introduce the concept of functions to encapsulate and reuse code for common arithmetic operations\n",
    "  \r\n",
    "4. **Practice nversion**: We'll practice converting units, such as minutes to hours, to reinforce understanding of arithmetic concepts in practical scenari.\r\n",
    "  \r\n",
    "5. **Illustrate Precedence andarentheses**: We'll demonstrate the importance of operator precedence and how parentheses can be used to override default precedence res.\r\n",
    "  \r\n",
    "6. **Apply Arithmetic in Pblem Solving**: Finally, we'll apply arithmetic expressions to solve simple mathematical problems, integrating our understanding into real-world examples.\r\n",
    "\r\n",
    "These objectives will guide us through the notebook, providing a structured approach to learning and applying arithmetic concepts.\r\n"
   ]
  },
  {
   "cell_type": "markdown",
   "id": "5fed359a-2256-485b-9ea5-23c5ffa85512",
   "metadata": {},
   "source": [
    "## Author\n",
    "\n",
    "Author: Shuvodeep Chowdhury"
   ]
  }
 ],
 "metadata": {
  "kernelspec": {
   "display_name": "Python 3 (ipykernel)",
   "language": "python",
   "name": "python3"
  },
  "language_info": {
   "codemirror_mode": {
    "name": "ipython",
    "version": 3
   },
   "file_extension": ".py",
   "mimetype": "text/x-python",
   "name": "python",
   "nbconvert_exporter": "python",
   "pygments_lexer": "ipython3",
   "version": "3.12.0"
  }
 },
 "nbformat": 4,
 "nbformat_minor": 5
}
